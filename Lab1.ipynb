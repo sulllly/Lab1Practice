{
  "nbformat": 4,
  "nbformat_minor": 0,
  "metadata": {
    "colab": {
      "name": "Lab1.ipynb",
      "provenance": [],
      "collapsed_sections": [],
      "authorship_tag": "ABX9TyPbNbY9kfV9Wf4G/zcGTCdE",
      "include_colab_link": true
    },
    "kernelspec": {
      "name": "python3",
      "display_name": "Python 3"
    }
  },
  "cells": [
    {
      "cell_type": "markdown",
      "metadata": {
        "id": "view-in-github",
        "colab_type": "text"
      },
      "source": [
        "<a href=\"https://colab.research.google.com/github/sulllly/Lab1Practice/blob/master/Lab1.ipynb\" target=\"_parent\"><img src=\"https://colab.research.google.com/assets/colab-badge.svg\" alt=\"Open In Colab\"/></a>"
      ]
    },
    {
      "cell_type": "markdown",
      "metadata": {
        "id": "NDdY5rFDvEbe",
        "colab_type": "text"
      },
      "source": [
        "## Do you like using Jupyter notebooks?"
      ]
    },
    {
      "cell_type": "markdown",
      "metadata": {
        "id": "vZhOq70EvKve",
        "colab_type": "text"
      },
      "source": [
        "I do like using Jupyter notebooks so far. It is really easy to use and understand."
      ]
    },
    {
      "cell_type": "markdown",
      "metadata": {
        "id": "M0aKGtWXvPor",
        "colab_type": "text"
      },
      "source": [
        "## What do you want to learn more about Jupyter notbooks?"
      ]
    },
    {
      "cell_type": "markdown",
      "metadata": {
        "id": "fNBupkm4vV2r",
        "colab_type": "text"
      },
      "source": [
        "I would like to learn more about it and have a better understanding for the interface. I also want to learn how to write plugins, that seems really cool."
      ]
    },
    {
      "cell_type": "markdown",
      "metadata": {
        "id": "RtZIhKJMvozo",
        "colab_type": "text"
      },
      "source": [
        "![white out game](https://raw.githubusercontent.com/sulllly/Lab1Practice/master/Iphone%202017-2018%201840.JPG)\n",
        "submit the url for the jupyter site. when you put this in git hub u put that url into jupyter and the take that link on jupyter"
      ]
    }
  ]
}